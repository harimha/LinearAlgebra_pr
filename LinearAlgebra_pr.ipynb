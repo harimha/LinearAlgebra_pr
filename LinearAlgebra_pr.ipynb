{
  "nbformat": 4,
  "nbformat_minor": 0,
  "metadata": {
    "colab": {
      "provenance": [],
      "toc_visible": true,
      "authorship_tag": "ABX9TyPMc+Blzqwa8hTXWHzs21o8"
    },
    "kernelspec": {
      "name": "python3",
      "display_name": "Python 3"
    },
    "language_info": {
      "name": "python"
    }
  },
  "cells": [
    {
      "cell_type": "markdown",
      "source": [
        "# 선형대수학 알고리즘 코드 학습"
      ],
      "metadata": {
        "id": "GKhOeLVA3SUc"
      }
    },
    {
      "cell_type": "markdown",
      "source": [
        "## 기본 행연산 알고리즘"
      ],
      "metadata": {
        "id": "614eXwRc3aN4"
      }
    },
    {
      "cell_type": "code",
      "source": [
        "import numpy as np\n",
        "\n",
        "M = np.array([[1,2,3],\n",
        "              [4,5,6],\n",
        "              [7,8,9]])\n",
        "\n",
        "# 기본 행연산\n",
        "def E1(M, i, j):\n",
        "    # 행렬 M의 i행과 j행을 바꾸는 연산\n",
        "    A = M.copy()\n",
        "    B = A[i].copy()\n",
        "    A[i] = A[j].copy()\n",
        "    A[j] = B\n",
        "\n",
        "    return A\n",
        "\n",
        "def E2(M, i, k):\n",
        "    # M의 i행에 k 스칼라배 하는 기본행연산\n",
        "    A = M.copy()\n",
        "    A[i] = k*A[i]\n",
        "\n",
        "    return A\n",
        "\n",
        "def E3(M,i,j,k):\n",
        "    # M의 i행에 j행의 k스칼라배 한 것을 더하는 기본행연산\n",
        "    A = M.copy()\n",
        "    A[i] += k*A[j]\n",
        "\n",
        "    return A\n",
        "\n",
        "print(M, end=\"\\n --------------- \\n\")\n",
        "print(E1(M,1,2), end=\"\\n --------------- \\n\")\n",
        "print(E2(M,1,3), end=\"\\n --------------- \\n\")\n",
        "print(E3(M,1,0,2), end=\"\\n --------------- \\n\")"
      ],
      "metadata": {
        "colab": {
          "base_uri": "https://localhost:8080/"
        },
        "id": "idaG29FX3ceP",
        "outputId": "d520c332-a39e-4054-9a68-05b9f896d277"
      },
      "execution_count": 72,
      "outputs": [
        {
          "output_type": "stream",
          "name": "stdout",
          "text": [
            "[[1 2 3]\n",
            " [4 5 6]\n",
            " [7 8 9]]\n",
            " --------------- \n",
            "[[1 2 3]\n",
            " [7 8 9]\n",
            " [4 5 6]]\n",
            " --------------- \n",
            "[[ 1  2  3]\n",
            " [12 15 18]\n",
            " [ 7  8  9]]\n",
            " --------------- \n",
            "[[ 1  2  3]\n",
            " [ 6  9 12]\n",
            " [ 7  8  9]]\n",
            " --------------- \n"
          ]
        }
      ]
    },
    {
      "cell_type": "markdown",
      "source": [
        "## Gauss-Jordan 소거법"
      ],
      "metadata": {
        "id": "kVAwxCny5RsD"
      }
    },
    {
      "cell_type": "code",
      "execution_count": 73,
      "metadata": {
        "id": "9GFXMdK1SHzq",
        "colab": {
          "base_uri": "https://localhost:8080/"
        },
        "outputId": "9f2e1413-a566-46cb-d282-31d182b69ac8"
      },
      "outputs": [
        {
          "output_type": "stream",
          "name": "stdout",
          "text": [
            "[[1. 0. 0. 1.]\n",
            " [0. 1. 0. 2.]\n",
            " [0. 0. 1. 3.]]\n",
            "[1. 2. 3.]\n"
          ]
        }
      ],
      "source": [
        "def gauss_jordan_elimination(A):\n",
        "    EA = A.copy()\n",
        "    (n, m) = EA.shape\n",
        "    iter_n = min(n,m) # 반복수행 횟수\n",
        "    for j in range(0,iter_n):\n",
        "        maxEl = 0\n",
        "        maxRow = 0\n",
        "        for i in range(j,n):\n",
        "            if maxEl < EA[i,j]:\n",
        "                maxEl = EA[i,j]\n",
        "                maxRow = i\n",
        "        if maxEl == 0:\n",
        "            continue\n",
        "        else:\n",
        "            EA = E1(EA, j, maxRow)\n",
        "            EA[j] = EA[j]/maxEl\n",
        "        for k in range(0,n):\n",
        "            if k != j:\n",
        "                EA[k]=EA[k]-EA[k,j]*EA[j]\n",
        "    x = EA[:,m-1]\n",
        "    return EA, x\n",
        "\n",
        "A = np.array([[2, 2, 4, 18],\n",
        "              [1, 3, 2, 13],\n",
        "              [3, 1, 3, 14]])\n",
        "A = A.astype(float)\n",
        "EA, x = gauss_jordan_elimination(A)\n",
        "\n",
        "print(EA, x, sep=\"\\n\")\n",
        "\n"
      ]
    },
    {
      "cell_type": "markdown",
      "source": [
        "## LU분해"
      ],
      "metadata": {
        "id": "PGa4yLtr7mOA"
      }
    },
    {
      "cell_type": "code",
      "source": [
        "# LU분해\n",
        "A = np.random.rand(3,3)\n",
        "\n",
        "# dolittle algorithm\n",
        "def LU_decomposition(A):\n",
        "    n = A.shape[0]\n",
        "    L = np.eye(n)\n",
        "    U = np.zeros([n, n])\n",
        "    for i in range(0, n):\n",
        "        for j in range(0, n):\n",
        "            if i > j:\n",
        "                L[i, j] = A[i, j]\n",
        "                summ = 0\n",
        "                for k in range(0, j):\n",
        "                    summ += L[i, k] * U[k, j]\n",
        "                L[i, j] = (L[i, j] - summ) / U[j, j]\n",
        "            else:\n",
        "                U[i, j] = A[i, j]\n",
        "                summ = 0\n",
        "                if i == 0:\n",
        "                    pass\n",
        "                else:\n",
        "                    for k in range(0, i):\n",
        "                        summ += L[i, k] * U[k, j]\n",
        "                    U[i, j] -= summ\n",
        "    return L, U\n",
        "\n",
        "A = np.array([[5,3,2,1],\n",
        "              [6,2,4,5],\n",
        "              [7,4,1,3],\n",
        "              [4,3,5,2]]).astype(float)\n",
        "b = np.array([4,2,5,1]).reshape(4,1).astype(float)\n",
        "L, U = LU_decomposition(A)\n",
        "print(L , U , sep=\"\\n\")\n",
        "\n",
        "# LU분해를 활용한 해와 비교\n",
        "L.dot(U)\n",
        "L_inv = np.linalg.inv(L)\n",
        "y = L_inv.dot(b)\n",
        "U_inv = np.linalg.inv(U)\n",
        "x_LU = U_inv.dot(y)\n",
        "print(x_LU)\n",
        "\n",
        "A_inv = np.linalg.inv(A)\n",
        "x = A_inv.dot(b)\n",
        "print(x)"
      ],
      "metadata": {
        "colab": {
          "base_uri": "https://localhost:8080/"
        },
        "id": "MDCSBqoc77mD",
        "outputId": "ae04b986-1827-4d04-e505-87522fff1e85"
      },
      "execution_count": 74,
      "outputs": [
        {
          "output_type": "stream",
          "name": "stdout",
          "text": [
            "[[ 1.     0.     0.     0.   ]\n",
            " [ 1.2    1.     0.     0.   ]\n",
            " [ 1.4    0.125  1.     0.   ]\n",
            " [ 0.8   -0.375 -2.     1.   ]]\n",
            "[[ 5.     3.     2.     1.   ]\n",
            " [ 0.    -1.6    1.6    3.8  ]\n",
            " [ 0.     0.    -2.     1.125]\n",
            " [ 0.     0.     0.     4.875]]\n",
            "[[ 1.30769231]\n",
            " [-0.38461538]\n",
            " [-0.30769231]\n",
            " [-0.76923077]]\n",
            "[[ 1.30769231]\n",
            " [-0.38461538]\n",
            " [-0.30769231]\n",
            " [-0.76923077]]\n"
          ]
        }
      ]
    },
    {
      "cell_type": "markdown",
      "source": [
        "## 소행렬"
      ],
      "metadata": {
        "id": "QtJ3hmC_8wh0"
      }
    },
    {
      "cell_type": "code",
      "source": [
        "A = np.array([[-4, 0, 2, -1, 0],\n",
        "              [1, 3, -3, -1, 4],\n",
        "              [2, 0, 1, 3, 0],\n",
        "              [-2, 1, -3, -1, 5],\n",
        "              [1, -5, 1, 0, 5]]).astype(float)\n",
        "\n",
        "# 소행렬\n",
        "def MinorMatrix(A, i, j):\n",
        "    n = len(A)\n",
        "    row_lst = list(range(n))\n",
        "    col_lst = list(range(n))\n",
        "    row_lst.remove(i)\n",
        "    col_lst.remove(j)\n",
        "    MinorAij = A[row_lst,:]\n",
        "    MinorAij = MinorAij[:,col_lst]\n",
        "\n",
        "    return MinorAij\n",
        "\n",
        "def MinorMatrix2(A, i,j):\n",
        "    n = len(A)\n",
        "    M = np.zeros((n-1,n-1))\n",
        "    for a in range(0,n-1):\n",
        "        k = a if a < i else a+1\n",
        "        for b in range(0,n-1):\n",
        "            l = b if b < j else b+1\n",
        "            M[a,b] = A[k,l]\n",
        "    return M"
      ],
      "metadata": {
        "id": "gB7bUSf680Hf"
      },
      "execution_count": 75,
      "outputs": []
    },
    {
      "cell_type": "markdown",
      "source": [
        "## 행렬식"
      ],
      "metadata": {
        "id": "m3-GmCtV8REL"
      }
    },
    {
      "cell_type": "code",
      "source": [
        "# 행렬식\n",
        "def determinant(A):\n",
        "    n = len(A)\n",
        "    if n == 1 :\n",
        "        return A[0,0]\n",
        "\n",
        "    det = 0\n",
        "    for j in range(n):\n",
        "        minor_mat = MinorMatrix(A,0,j)\n",
        "        det += ((-1)**(j))*A[0,j]*determinant(minor_mat)\n",
        "\n",
        "    return det\n",
        "\n",
        "def determinant2(A):\n",
        "    if len(A) == 1:\n",
        "        return A[0,0]\n",
        "    if len(A) == 2:\n",
        "        return A[0,0]*A[1,1]-A[0,1]*A[1,0]\n",
        "\n",
        "    detVal=0\n",
        "    for c in range(len(A)):\n",
        "        minor_mat = MinorMatrix(A, 0, c)\n",
        "        detVal+= ((-1)**(c))*A[0,c]*determinant2(minor_mat)\n",
        "    return detVal"
      ],
      "metadata": {
        "id": "rgvA5jo283XC"
      },
      "execution_count": 76,
      "outputs": []
    },
    {
      "cell_type": "markdown",
      "source": [
        "## 여인수 / 수반행렬"
      ],
      "metadata": {
        "id": "gNdA6DD08ysN"
      }
    },
    {
      "cell_type": "code",
      "source": [
        "# 여인수\n",
        "def cofactor(A, i, j):\n",
        "    minor_mat = MinorMatrix(A,i,j)\n",
        "    minor_det = determinant(minor_mat)\n",
        "    co = ((-1)**(i+j))*minor_det\n",
        "\n",
        "    return co\n",
        "\n",
        "# 수반행렬\n",
        "def adjointMatrix(A):\n",
        "    n = len(A)\n",
        "    adj_M = np.zeros((n,n))\n",
        "    for i in range(n):\n",
        "        for j in range(n):\n",
        "            adj_M[j,i] = cofactor(A,i,j)\n",
        "    return adj_M\n",
        "\n",
        "# 수반행렬을 이용한 역행렬 비교\n",
        "A_inv = np.linalg.inv(A)\n",
        "print(A_inv)\n",
        "\n",
        "adjointMatrix(A).dot(A)\n",
        "A_inv_adj = adjointMatrix(A)/determinant(A)\n",
        "print(A_inv_adj)"
      ],
      "metadata": {
        "colab": {
          "base_uri": "https://localhost:8080/"
        },
        "id": "ZhuIgekb88es",
        "outputId": "fa87bd1c-2942-4eee-8bdb-9f144211f1ad"
      },
      "execution_count": 77,
      "outputs": [
        {
          "output_type": "stream",
          "name": "stdout",
          "text": [
            "[[-0.07321966  0.2106319  -0.03610832 -0.24573721  0.0772317 ]\n",
            " [ 0.16950853  0.26579739  0.09729188 -0.14343029 -0.06920762]\n",
            " [ 0.32397192  0.30090271  0.09127382 -0.35105316  0.11033099]\n",
            " [-0.05917753 -0.24072217  0.32698094  0.28084253 -0.08826479]\n",
            " [ 0.11935807  0.16349047  0.08625878 -0.02407222  0.09327984]]\n",
            "[[-0.07321966  0.2106319  -0.03610832 -0.24573721  0.0772317 ]\n",
            " [ 0.16950853  0.26579739  0.09729188 -0.14343029 -0.06920762]\n",
            " [ 0.32397192  0.30090271  0.09127382 -0.35105316  0.11033099]\n",
            " [-0.05917753 -0.24072217  0.32698094  0.28084253 -0.08826479]\n",
            " [ 0.11935807  0.16349047  0.08625878 -0.02407222  0.09327984]]\n"
          ]
        }
      ]
    },
    {
      "cell_type": "markdown",
      "source": [
        "## 크래머 공식"
      ],
      "metadata": {
        "id": "U7ogIkWn9C1F"
      }
    },
    {
      "cell_type": "code",
      "source": [
        "# 크래머 공식을 활용한 해구하기\n",
        "A = np.array([[2,-1,5,1],\n",
        "              [3,2,2,-6],\n",
        "              [1,3,3,-1],\n",
        "              [5,-2,-3,3]]).astype(float)\n",
        "b = np.array([[-3],\n",
        "              [-32],\n",
        "              [-47],\n",
        "              [49]]).astype(float)\n",
        "def Cramer(A, b):\n",
        "    n = len(A)\n",
        "    x = np.zeros((n,1))\n",
        "    for c in range(n):\n",
        "        B = A.copy()\n",
        "        for i in range(n):\n",
        "            B[i,c]=b[i][0]\n",
        "        x[c] = determinant(B)/determinant(A)\n",
        "\n",
        "    return x\n",
        "x = Cramer(A,b)\n",
        "print(x)"
      ],
      "metadata": {
        "colab": {
          "base_uri": "https://localhost:8080/"
        },
        "id": "-pQ-6k299G6T",
        "outputId": "25230bbf-bc08-4090-a647-6fcad7d8b0e2"
      },
      "execution_count": 78,
      "outputs": [
        {
          "output_type": "stream",
          "name": "stdout",
          "text": [
            "[[  2.]\n",
            " [-12.]\n",
            " [ -4.]\n",
            " [  1.]]\n"
          ]
        }
      ]
    },
    {
      "cell_type": "markdown",
      "source": [
        "## 두 벡터의 사잇각 구하기"
      ],
      "metadata": {
        "id": "S-wdhM0i9Epk"
      }
    },
    {
      "cell_type": "code",
      "source": [
        "def get_vector(mag, deg):\n",
        "    v = np.zeros((2,1))\n",
        "    v[0] = mag*np.cos(deg*np.pi/180)\n",
        "    v[1] = mag*np.sin(deg*np.pi/180)\n",
        "\n",
        "    return v\n",
        "\n",
        "def get_mag_deg(vec):\n",
        "    mag = np.sqrt(vec[0][0]**2+vec[1][0]**2)\n",
        "    deg = np.arctan(vec[1][0]/vec[0][0])*(180/np.pi)\n",
        "    return mag, deg\n",
        "\n",
        "v1 = get_vector(100, 30)\n",
        "v2 = get_vector(120, 60)\n",
        "v3 = v1+v2\n",
        "\n",
        "print(get_mag_deg(v3))\n",
        "\n",
        "\n",
        "# 두 벡터의 사잇각\n",
        "v = np.array([2,4,1]).reshape(3,1)\n",
        "w = np.array([1,-1,3]).reshape(3,1)\n",
        "def angle2vectors(v,w):\n",
        "    norm_v = np.linalg.norm(v)\n",
        "    norm_w = np.linalg.norm(w)\n",
        "    cos_val = v.T.dot(w)/(norm_v*norm_w)\n",
        "    angle = np.arccos(cos_val)*(180/np.pi)\n",
        "\n",
        "    return angle\n",
        "\n",
        "print(angle2vectors(v,w))"
      ],
      "metadata": {
        "colab": {
          "base_uri": "https://localhost:8080/"
        },
        "id": "O-SI5AfN9ZEk",
        "outputId": "51ad40ed-0978-4717-ea7b-58ce4af08575"
      },
      "execution_count": 79,
      "outputs": [
        {
          "output_type": "stream",
          "name": "stdout",
          "text": [
            "(212.56671821060448, 46.395392948206855)\n",
            "[[86.22748926]]\n"
          ]
        }
      ]
    },
    {
      "cell_type": "markdown",
      "source": [
        "## 두 벡터의 정사영"
      ],
      "metadata": {
        "id": "dXv5yi1V9oLo"
      }
    },
    {
      "cell_type": "code",
      "source": [
        "# 두 벡터의 정사영\n",
        "v.T.dot(w)\n",
        "angle2vectors(v,w)\n",
        "\n",
        "# 정사영\n",
        "def projection(v,w):\n",
        "    # v의 w로의 정사영\n",
        "    norm_w = np.linalg.norm(w)\n",
        "    proj_w_v = (v.T.dot(w)/norm_w**2)*w\n",
        "\n",
        "    return proj_w_v\n",
        "\n",
        "print(projection(v,w))"
      ],
      "metadata": {
        "colab": {
          "base_uri": "https://localhost:8080/"
        },
        "id": "Pc_ECcV190eD",
        "outputId": "165cf084-76d1-4cbb-b463-90d887e8c788"
      },
      "execution_count": 80,
      "outputs": [
        {
          "output_type": "stream",
          "name": "stdout",
          "text": [
            "[[ 0.09090909]\n",
            " [-0.09090909]\n",
            " [ 0.27272727]]\n"
          ]
        }
      ]
    },
    {
      "cell_type": "markdown",
      "source": [
        "## 벡터의 삼중적"
      ],
      "metadata": {
        "id": "-6kaoY7u94F_"
      }
    },
    {
      "cell_type": "code",
      "source": [
        "# 평육면체의 부피\n",
        "# x dot ( y cross z)\n",
        "A = np.array([1, 2, 3])\n",
        "B = np.array([0, 5, 2])\n",
        "C = np.array([2, 2, 4])\n",
        "D = np.array([2, 4, 1])\n",
        "AB = B-A\n",
        "AC = C-A\n",
        "AD = D-A\n",
        "\n",
        "def tripleProduct(u,v,w):\n",
        "    M = np.column_stack([u,v,w])\n",
        "    val = np.linalg.det(M)\n",
        "\n",
        "    return abs(val)\n",
        "\n",
        "print(tripleProduct(AB,AD,AC))\n",
        "print(abs(AB.dot(np.cross(AD,AC))))\n"
      ],
      "metadata": {
        "colab": {
          "base_uri": "https://localhost:8080/"
        },
        "id": "2JOhuWiP96cU",
        "outputId": "d9d6311c-8453-4b9e-e925-d246830b2970"
      },
      "execution_count": 81,
      "outputs": [
        {
          "output_type": "stream",
          "name": "stdout",
          "text": [
            "9.000000000000002\n",
            "9\n"
          ]
        }
      ]
    },
    {
      "cell_type": "markdown",
      "source": [
        "## 점과 공간 사이의 거리"
      ],
      "metadata": {
        "id": "C6RJuilY-G5W"
      }
    },
    {
      "cell_type": "code",
      "source": [
        "A = np.array([2,3,4])\n",
        "W = np.array([1,2,3])\n",
        "P = np.array([0,1,2])\n",
        "\n",
        "def distPt2Pl(A,W,P):\n",
        "    d = abs((P-A).dot(W)/np.linalg.norm(W))\n",
        "    return d\n",
        "\n",
        "print(distPt2Pl(A, W, P))"
      ],
      "metadata": {
        "colab": {
          "base_uri": "https://localhost:8080/"
        },
        "id": "NBzRkSgF-PYf",
        "outputId": "d9eefa62-2a90-4e7a-be98-ef194eadcdf1"
      },
      "execution_count": 82,
      "outputs": [
        {
          "output_type": "stream",
          "name": "stdout",
          "text": [
            "3.2071349029490928\n"
          ]
        }
      ]
    },
    {
      "cell_type": "markdown",
      "source": [
        "## 이미지 변환"
      ],
      "metadata": {
        "id": "swtrV1I7-aYz"
      }
    },
    {
      "cell_type": "code",
      "source": [
        "# 이미지 변환\n",
        "import matplotlib.pyplot as plt\n",
        "import imageio as im\n",
        "\n",
        "def linear_transformation(src, a):\n",
        "    M, N, _ = src.shape # M : y축 방향 크기, N : x축 방향 크기\n",
        "    corners = np. array([[0,0,N-1,N-1], # 이미지 코너 좌표를 열벡터로 하는 행렬\n",
        "                         [0, M-1,0,M-1]])\n",
        "    new_points = a.dot(corners).astype(int) # 코너 위치의 선형변환 결과\n",
        "\n",
        "    xcoord = new_points[0, :] # x축 좌표값\n",
        "    ycoord = new_points[1, :] # y축 좌표값\n",
        "    minx = np.amin(xcoord)\n",
        "    maxx = np.amax(xcoord)\n",
        "    miny = np.amin(ycoord)\n",
        "    maxy = np.amax(ycoord)\n",
        "\n",
        "    newN = maxx-minx+1 # 선형변환 후 x축 방향 이미지 크기\n",
        "    newM = maxy-miny+1 # 선형변환 후 y축 방향 이미지 크기\n",
        "    dest = np.full((newM, newN, 3), 200) # 출력 이미지 생성\n",
        "    y = miny\n",
        "    for i in range(newM):\n",
        "        x=minx\n",
        "        for j in range(newN):\n",
        "            pts = np.array([[x],\n",
        "                            [y]])\n",
        "\n",
        "            # 출력 이미지의 (x,y) 위치에 대응하는 원본 이미지의 위치 계산\n",
        "            # 역행렬 사용\n",
        "            newpts = np.linalg.inv(a).dot(pts).round().astype(int)\n",
        "            if (newpts[0] >=0 and newpts[0]< N and newpts[1] >=0 and newpts[1]<M):\n",
        "                dest[i,j,:] = src[newpts[1], newpts[0],:]\n",
        "            x = x+1\n",
        "        y= y+1\n",
        "    return dest\n",
        "\n",
        "def translate(src, d):\n",
        "    M, N, _ = src.shape\n",
        "    steps = np.absolute(d)\n",
        "    newM = M+2*steps[1]\n",
        "    newN = N+2*steps[0]\n",
        "    dest = np.full((newM, newN, 3), 200)\n",
        "    for i in range(newM):\n",
        "        for j in range(newN):\n",
        "            yp = i-d[0]\n",
        "            xp = j-d[1]\n",
        "            if xp >= 0 and xp < N and yp >=0 and yp <M:\n",
        "                dest[i,j,:] = src[yp, xp, :]\n",
        "    return dest\n",
        "\n",
        "\n",
        "\n",
        "src = im.imread(\"Cat.JPG\")\n",
        "plt.subplot(3,2,1)\n",
        "plt.title(\"original\")\n",
        "plt.imshow(src)\n",
        "\n",
        "\n",
        "#  x축 방향 1.5배 확대, y축 방향 0.8배 축소\n",
        "a = np.array([[1.5,0],\n",
        "              [0,0.8]])\n",
        "dst = linear_transformation(src, a)\n",
        "plt.subplot(3,2,2)\n",
        "plt.title(\"scaled by 1.5 and 0.8\")\n",
        "plt.imshow(dst)\n",
        "\n",
        "# 반시계방향으로 45도 회전\n",
        "alpha = np.pi/4\n",
        "a = np.array([[np.cos(alpha), -np.sin(alpha)],\n",
        "              [np.sin(alpha), np.cos(alpha)]])\n",
        "dst = linear_transformation(src, a)\n",
        "plt.subplot(3,2,3)\n",
        "plt.title(\"Rotation by 45 degree counterclockwise\")\n",
        "plt.imshow(dst)\n",
        "\n",
        "#  x축 기준 반사\n",
        "a = np.array([[1,0],\n",
        "              [0,-1]])\n",
        "dst = linear_transformation(src, a)\n",
        "plt.subplot(3,2,4)\n",
        "plt.title(\"Reflection about the x-axis\")\n",
        "plt.imshow(dst)\n",
        "\n",
        "# x축 방향으로 +y/2만큼 층밀림\n",
        "a = np.array([[1,0.5],\n",
        "              [0,1]])\n",
        "dst = linear_transformation(src, a)\n",
        "plt.subplot(3,2,5)\n",
        "plt.title(\"shearing in the x-axis with +y/2\")\n",
        "plt.imshow(dst)\n",
        "\n",
        "# x축 방향으로 40, y축 방향으로 20만큼 평행이동\n",
        "dst = translate(src, [40,20])\n",
        "plt.subplot(3,2,6)\n",
        "plt.title(\"translate by (40,20)\")\n",
        "plt.imshow(dst)\n",
        "\n",
        "plt.subplots_adjust(hspace=1, wspace=1)\n",
        "plt.show()"
      ],
      "metadata": {
        "colab": {
          "base_uri": "https://localhost:8080/",
          "height": 508
        },
        "id": "nTqSbnAQDwgU",
        "outputId": "ea1fccb4-8c83-4946-b6b4-15708735a122"
      },
      "execution_count": 83,
      "outputs": [
        {
          "output_type": "stream",
          "name": "stderr",
          "text": [
            "<ipython-input-83-2fdfcd6e9847>:53: DeprecationWarning: Starting with ImageIO v3 the behavior of this function will switch to that of iio.v3.imread. To keep the current behavior (and make this warning disappear) use `import imageio.v2 as imageio` or call `imageio.v2.imread` directly.\n",
            "  src = im.imread(\"Cat.JPG\")\n"
          ]
        },
        {
          "output_type": "display_data",
          "data": {
            "text/plain": [
              "<Figure size 640x480 with 6 Axes>"
            ],
            "image/png": "[encoded data removed]"
          },
          "metadata": {}
        }
      ]
    },
    {
      "cell_type": "markdown",
      "source": [
        "\n",
        "## 고윳값, 고유벡터"
      ],
      "metadata": {
        "id": "A7ybpHFfD6Xm"
      }
    },
    {
      "cell_type": "code",
      "source": [
        "# 고윳값, 고유벡터\n",
        "A = np.array([[2, 3],\n",
        "              [3, -6]])\n",
        "B = np.array([[5, 2, 0],\n",
        "              [2, 5, 0],\n",
        "              [-3, 4, 6]])\n",
        "w1, V1 = np.linalg.eig(A)\n",
        "w2, V2 = np.linalg.eig(B)\n",
        "\n",
        "print(w1, V1)\n",
        "print(w2, V2)\n"
      ],
      "metadata": {
        "colab": {
          "base_uri": "https://localhost:8080/"
        },
        "id": "BOLojSS4D7Ch",
        "outputId": "51d53c2a-204f-4b8b-cb39-bc6eb4084434"
      },
      "execution_count": 84,
      "outputs": [
        {
          "output_type": "stream",
          "name": "stdout",
          "text": [
            "[ 3. -7.] [[ 0.9486833  -0.31622777]\n",
            " [ 0.31622777  0.9486833 ]]\n",
            "[6. 7. 3.] [[ 0.          0.57735027  0.36650833]\n",
            " [ 0.          0.57735027 -0.36650833]\n",
            " [ 1.          0.57735027  0.85518611]]\n"
          ]
        }
      ]
    },
    {
      "cell_type": "markdown",
      "source": [
        "## 고윳값 분해"
      ],
      "metadata": {
        "id": "nIywJ-vcERvp"
      }
    },
    {
      "cell_type": "code",
      "source": [
        "# 고윳값 분해\n",
        "A = np.array([[3,1],\n",
        "              [2,2]])\n",
        "B = np.array([[1,1,0],\n",
        "              [1,3,1],\n",
        "              [2,-1,1]])\n",
        "\n",
        "w, S = np.linalg.eig(A)\n",
        "S_inv = np.linalg.inv(S)\n",
        "D = np.diag(w)\n",
        "\n",
        "\n",
        "print(S, D , S_inv, sep=\"\\n\")\n",
        "print(S.dot(D).dot(S_inv))\n"
      ],
      "metadata": {
        "colab": {
          "base_uri": "https://localhost:8080/"
        },
        "id": "eZnn4PXOETY5",
        "outputId": "f890282a-7469-4287-894f-c6bdb6db27c8"
      },
      "execution_count": 85,
      "outputs": [
        {
          "output_type": "stream",
          "name": "stdout",
          "text": [
            "[[ 0.70710678 -0.4472136 ]\n",
            " [ 0.70710678  0.89442719]]\n",
            "[[4. 0.]\n",
            " [0. 1.]]\n",
            "[[ 0.94280904  0.47140452]\n",
            " [-0.74535599  0.74535599]]\n",
            "[[3. 1.]\n",
            " [2. 2.]]\n"
          ]
        }
      ]
    },
    {
      "cell_type": "markdown",
      "source": [
        "## 무어-펜로즈 의사 역행렬"
      ],
      "metadata": {
        "id": "UiLZZg3iEGCN"
      }
    },
    {
      "cell_type": "code",
      "source": [
        "# 무어-펜로즈 의사 역행렬\n",
        "A = np.array([[1,1],\n",
        "              [2,1],\n",
        "              [3,1],\n",
        "              [4,1]])\n",
        "b = np.array([3.5, 4.3, 7.2, 8.0]).reshape(4,1)\n",
        "C = np.array([[1,3,5],\n",
        "              [1,1,0],\n",
        "              [1,1,2],\n",
        "              [1,3,3]])\n",
        "d = np.array([3,5,7,-3]).reshape(4,1)\n",
        "x = np.linalg.inv(A.T.dot(A)).dot(A.T).dot(b)\n",
        "\n",
        "print(x)\n"
      ],
      "metadata": {
        "colab": {
          "base_uri": "https://localhost:8080/"
        },
        "id": "y9sWmdHYEGJX",
        "outputId": "1658d977-a94f-40b2-f2da-1c679bfba8e5"
      },
      "execution_count": 87,
      "outputs": [
        {
          "output_type": "stream",
          "name": "stdout",
          "text": [
            "[[1.64]\n",
            " [1.65]]\n"
          ]
        }
      ]
    },
    {
      "cell_type": "markdown",
      "source": [
        "## QR분해\n"
      ],
      "metadata": {
        "id": "E2cbJfKZEiNy"
      }
    },
    {
      "cell_type": "code",
      "source": [
        "# QR분해\n",
        "Q, R = np.linalg.qr(C)\n",
        "print(Q)\n",
        "print(R)\n",
        "print(Q.dot(R))\n"
      ],
      "metadata": {
        "colab": {
          "base_uri": "https://localhost:8080/"
        },
        "id": "auod6TMDEF5U",
        "outputId": "8f5906d8-5b86-4ccf-d831-e159dd215ddc"
      },
      "execution_count": 88,
      "outputs": [
        {
          "output_type": "stream",
          "name": "stdout",
          "text": [
            "[[-0.5  0.5 -0.5]\n",
            " [-0.5 -0.5  0.5]\n",
            " [-0.5 -0.5 -0.5]\n",
            " [-0.5  0.5  0.5]]\n",
            "[[-2. -4. -5.]\n",
            " [ 0.  2.  3.]\n",
            " [ 0.  0. -2.]]\n",
            "[[ 1.00000000e+00  3.00000000e+00  5.00000000e+00]\n",
            " [ 1.00000000e+00  1.00000000e+00 -7.77156117e-16]\n",
            " [ 1.00000000e+00  1.00000000e+00  2.00000000e+00]\n",
            " [ 1.00000000e+00  3.00000000e+00  3.00000000e+00]]\n"
          ]
        }
      ]
    },
    {
      "cell_type": "markdown",
      "source": [
        "##  QR분해 활용 최적근사해"
      ],
      "metadata": {
        "id": "24ZuJNTwEGNX"
      }
    },
    {
      "cell_type": "code",
      "source": [
        "# QR분해 활용 최적근사해\n",
        "Q,R = np.linalg.qr(C)\n",
        "x = np.linalg.inv(R).dot(Q.T).dot(d)\n",
        "\n",
        "print(x)"
      ],
      "metadata": {
        "colab": {
          "base_uri": "https://localhost:8080/"
        },
        "id": "OHLG8aKdEIB1",
        "outputId": "36639747-17a9-4aa1-c799-c04c56c82dcc"
      },
      "execution_count": 89,
      "outputs": [
        {
          "output_type": "stream",
          "name": "stdout",
          "text": [
            "[[10.]\n",
            " [-6.]\n",
            " [ 2.]]\n"
          ]
        }
      ]
    },
    {
      "cell_type": "markdown",
      "source": [
        "## 그람슈미트 과정"
      ],
      "metadata": {
        "id": "F5bjH7qJD6Zt"
      }
    },
    {
      "cell_type": "code",
      "source": [
        "# 그람슈미트 과정\n",
        "A = np.array([[3,1],\n",
        "              [2,2]])\n",
        "B = np.array([[1,1,0],\n",
        "              [1,3,1],\n",
        "              [2,-1,1]])\n",
        "C = np.array([[1,1,1],\n",
        "              [2,2,0],\n",
        "              [3,0,0],\n",
        "              [0,0,1]])\n",
        "\n",
        "def gramSchmidt(A):\n",
        "    basis = []\n",
        "    for v in A.T:\n",
        "        w = v - sum(np.dot(v,b)*b for b in basis)\n",
        "        if (np.abs(w) > 1e-10).any():\n",
        "            basis.append(w/np.linalg.norm(w))\n",
        "    return np.array(basis).T\n",
        "\n",
        "print(gramSchmidt(A))\n",
        "print(gramSchmidt(B))\n",
        "print(gramSchmidt(C))"
      ],
      "metadata": {
        "colab": {
          "base_uri": "https://localhost:8080/"
        },
        "id": "ADGYTOv7D7Vu",
        "outputId": "eba5e9d3-5f86-4c1d-e39b-d062fcf8be21"
      },
      "execution_count": 90,
      "outputs": [
        {
          "output_type": "stream",
          "name": "stdout",
          "text": [
            "[[ 0.83205029 -0.5547002 ]\n",
            " [ 0.5547002   0.83205029]]\n",
            "[[ 0.40824829  0.20739034 -0.88900089]\n",
            " [ 0.40824829  0.82956136  0.38100038]\n",
            " [ 0.81649658 -0.51847585  0.25400025]]\n",
            "[[ 2.67261242e-01  3.58568583e-01  5.96284794e-01]\n",
            " [ 5.34522484e-01  7.17137166e-01 -2.98142397e-01]\n",
            " [ 8.01783726e-01 -5.97614305e-01  2.06877846e-17]\n",
            " [ 0.00000000e+00  0.00000000e+00  7.45355992e-01]]\n"
          ]
        }
      ]
    },
    {
      "cell_type": "markdown",
      "source": [
        "## 특잇값 분해"
      ],
      "metadata": {
        "id": "7NxvYr-XD6pE"
      }
    },
    {
      "cell_type": "code",
      "source": [
        "# 특잇값 분해\n",
        "A = np.linspace(1,30,30).reshape((3,10))\n",
        "AAT = A.dot(A.T)\n",
        "ATA = A.T.dot(A)\n",
        "e1, u = np.linalg.eig(AAT)\n",
        "e2, v = np.linalg.eig(ATA)\n",
        "\n",
        "U, S, VT = np.linalg.svd(A)\n",
        "\n",
        "print(U, S, VT, sep=\"\\n\")\n",
        "\n",
        "A=np.array([[-1,1,0],\n",
        "            [0,-1,1]])\n",
        "\n",
        "U, S, VT=np.linalg.svd(A)\n",
        "\n",
        "print(U, S, VT, sep=\"\\n\")"
      ],
      "metadata": {
        "colab": {
          "base_uri": "https://localhost:8080/"
        },
        "id": "1grhU9MrD8AK",
        "outputId": "2b56abe1-ef15-4a2d-9c24-88a80d65c152"
      },
      "execution_count": 91,
      "outputs": [
        {
          "output_type": "stream",
          "name": "stdout",
          "text": [
            "[[-0.19101157  0.89266338  0.40824829]\n",
            " [-0.51371859  0.26348917 -0.81649658]\n",
            " [-0.8364256  -0.36568503  0.40824829]]\n",
            "[9.69657342e+01 7.25578339e+00 5.43064394e-15]\n",
            "[[-0.24139304 -0.25728686 -0.27318068 -0.2890745  -0.30496832 -0.32086214\n",
            "  -0.33675595 -0.35264977 -0.36854359 -0.38443741]\n",
            " [-0.53589546 -0.42695236 -0.31800926 -0.20906617 -0.10012307  0.00882003\n",
            "   0.11776313  0.22670623  0.33564933  0.44459242]\n",
            " [-0.71590327  0.22125777  0.35844894  0.23137425  0.12099174  0.27768425\n",
            "  -0.35015608  0.05691924 -0.00338669 -0.19723014]\n",
            " [-0.03274747 -0.17891449 -0.37608172  0.89207072 -0.08211107 -0.11995167\n",
            "   0.02920549 -0.06831525 -0.05443306 -0.00872147]\n",
            " [-0.07588946 -0.05763181 -0.30552732 -0.08865234  0.92223855 -0.12098055\n",
            "  -0.00525156 -0.09919877 -0.09845351 -0.07065325]\n",
            " [ 0.06629874  0.08438747 -0.47449715 -0.0967393  -0.08248279  0.8362855\n",
            "   0.03555043 -0.13520148 -0.138849   -0.09475243]\n",
            " [-0.33592049  0.16549299  0.06013546 -0.02444478 -0.06055817 -0.0839398\n",
            "   0.85527901 -0.15616659 -0.18989278 -0.22998484]\n",
            " [-0.01998524  0.32695283 -0.33338835 -0.05818541 -0.07378355 -0.16577225\n",
            "  -0.03336365  0.80303148 -0.22688989 -0.21861597]\n",
            " [-0.02837782  0.45212363 -0.30774474 -0.0440392  -0.07113473 -0.17462083\n",
            "  -0.05370963 -0.22881189  0.72976934 -0.27345413]\n",
            " [-0.12943549  0.56692612 -0.16233901 -0.01621103 -0.06395043 -0.16261688\n",
            "  -0.11168512 -0.25809567 -0.31538389  0.65279141]]\n",
            "[[-0.70710678  0.70710678]\n",
            " [ 0.70710678  0.70710678]]\n",
            "[1.73205081 1.        ]\n",
            "[[ 4.08248290e-01 -8.16496581e-01  4.08248290e-01]\n",
            " [-7.07106781e-01 -2.78976253e-16  7.07106781e-01]\n",
            " [ 5.77350269e-01  5.77350269e-01  5.77350269e-01]]\n"
          ]
        }
      ]
    }
  ]
}